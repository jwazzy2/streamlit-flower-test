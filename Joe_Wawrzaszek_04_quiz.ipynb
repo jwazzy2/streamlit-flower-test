{
  "cells": [
    {
      "cell_type": "markdown",
      "metadata": {
        "id": "view-in-github",
        "colab_type": "text"
      },
      "source": [
        "<a href=\"https://colab.research.google.com/github/jwazzy2/streamlit-flower-test/blob/main/Joe_Wawrzaszek_04_quiz.ipynb\" target=\"_parent\"><img src=\"https://colab.research.google.com/assets/colab-badge.svg\" alt=\"Open In Colab\"/></a>"
      ]
    },
    {
      "cell_type": "markdown",
      "metadata": {
        "id": "DtSKpp3oD_gx"
      },
      "source": [
        "<img src=\"http://imgur.com/1ZcRyrc.png\" style=\"float: left; margin: 20px; height: 55px\" />\n",
        "\n",
        "# Quiz 4\n",
        "\n",
        "This notebook contains 5 coding challenges. You are to clone this repository and fill in the quiz with your answers, taking special care to follow the directions _exactly_. In many questions, we ask that you name variables in a specific way. Make sure to do this, as we use it for grading.\n",
        "\n",
        "To **submit** your quiz, drop your completed notebook in the file uploader in the provided Google Form.\n",
        "\n",
        "### Quiz Information:\n",
        "-  We heavily encourage you to approach this as a closed book quiz in order to simulate real-life interview situations, but if you get stuck and need to refer to an outside resource, be sure to provide a citation. You may not confer with your classmates or your instructors.\n",
        "- You will have 1 hour to take this quiz."
      ]
    },
    {
      "cell_type": "markdown",
      "metadata": {
        "id": "ySM634wvD_g0"
      },
      "source": [
        "## Problem 1: The Classic FizzBuzz\n",
        "\n",
        "Write a function called `fizzbuzz` that takes in a number $n$ and returns a **list** of each number from 1 to $n$, but: \n",
        "- For each multiple of 3, the item in the list should be \"Fizz\" instead of the number. \n",
        "- For each multiple of 5, the item in the list should be \"Buzz\" instead of the number. \n",
        "- For numbers which are multiples of both 3 and 5, the item in the list should be \"FizzBuzz\" instead of the number.\n",
        "\n",
        "Try to make your function as efficient & concise as possible.\n",
        "\n",
        "> For example:\n",
        "```python\n",
        "fizzbuzz(5)\n",
        "```\n",
        "> should return:\n",
        "```python\n",
        "[1, 2, 'Fizz', 4, 'Buzz']\n",
        "```"
      ]
    },
    {
      "cell_type": "markdown",
      "metadata": {
        "id": "0cqXj0J7D_g0"
      },
      "source": [
        "**4pts total**  \n",
        "*Partial credit will be given if substantial progress to the right answer is made.*"
      ]
    },
    {
      "cell_type": "code",
      "execution_count": null,
      "metadata": {
        "id": "akLWrSnsD_g0"
      },
      "outputs": [],
      "source": [
        "# your answer here:\n",
        "\n"
      ]
    },
    {
      "cell_type": "code",
      "execution_count": null,
      "metadata": {
        "id": "ZzHGVmgbD_g1"
      },
      "outputs": [],
      "source": [
        "fizzbuzz(15)"
      ]
    },
    {
      "cell_type": "markdown",
      "metadata": {
        "id": "Th43ZXoPD_g1"
      },
      "source": [
        "## Problem 2: Factorials!\n",
        "\n",
        "Write a function called `smallest_int` that takes in a digit $m$ and returns the smallest non-negative integer $n$ for which $n!$ starts with the given digit $m$.\n",
        "\n",
        "> For example:\n",
        "```python\n",
        "smallest_int(5)\n",
        "```\n",
        "> should return:\n",
        "```python\n",
        "7\n",
        "```\n",
        "> because: $7! = 5040$, and $7$ is the smallest non-negative integer $n$ where $n!$ starts with $5$.\n",
        "\n",
        "Use this function to find the smallest non-negative integer $n$ for which $n!$ starts with $9$."
      ]
    },
    {
      "cell_type": "markdown",
      "metadata": {
        "id": "s2tsyo9pD_g1"
      },
      "source": [
        "**4pts total**  \n",
        "*Partial credit will be given if substantial progress to the right answer is made.*"
      ]
    },
    {
      "cell_type": "code",
      "execution_count": null,
      "metadata": {
        "id": "Wpxl1jMZD_g1"
      },
      "outputs": [],
      "source": [
        "# your answer here:\n",
        "\n"
      ]
    },
    {
      "cell_type": "code",
      "execution_count": null,
      "metadata": {
        "id": "Lp0QiGnGD_g1"
      },
      "outputs": [],
      "source": [
        "smallest_int(5)"
      ]
    },
    {
      "cell_type": "code",
      "execution_count": null,
      "metadata": {
        "id": "v70VMpGuD_g1"
      },
      "outputs": [],
      "source": [
        "smallest_int(9)"
      ]
    },
    {
      "cell_type": "markdown",
      "metadata": {
        "id": "CX0O1zIcD_g2"
      },
      "source": [
        "## Problem 3: Quiz Scores\n",
        "\n",
        "You are given a dictionary containing your scores on various past quizzes (the keys are the quiz names and the values are your scores on the quizzes). Write a function called `quiz_scores` that takes in that dictionary and returns a **list** of just quiz names (i.e. 'Quiz 1', 'Quiz 2', etc.) where your score was **at least 15 points**, in descending order of the scores (highest scoring quiz to lowest scoring quiz).\n",
        "\n",
        "Note: you can assume the scores will always be unique (so no duplicate values).\n",
        "\n",
        "> For example:\n",
        "```python\n",
        "quiz_scores({'Quiz 1': 10, 'Quiz 2': 17, 'Quiz 3': 20, 'Quiz 4': 15})\n",
        "```\n",
        "> should return:\n",
        "```python\n",
        "['Quiz 3', 'Quiz 2', 'Quiz 4']\n",
        "```"
      ]
    },
    {
      "cell_type": "markdown",
      "metadata": {
        "id": "SdN8rvlVD_g2"
      },
      "source": [
        "### 4pts total\n",
        "**Partial credit will be given if substantial progress to the right answer is made**"
      ]
    },
    {
      "cell_type": "code",
      "execution_count": null,
      "metadata": {
        "id": "jIQtDZOSD_g2"
      },
      "outputs": [],
      "source": [
        "# your answer here:\n",
        "\n"
      ]
    },
    {
      "cell_type": "code",
      "execution_count": null,
      "metadata": {
        "id": "zkxKY9CDD_g2"
      },
      "outputs": [],
      "source": [
        "quiz_scores({'Quiz 1': 10, 'Quiz 2': 17, 'Quiz 3': 20, 'Quiz 4': 15})"
      ]
    },
    {
      "cell_type": "markdown",
      "metadata": {
        "id": "8e9-srwrD_g2"
      },
      "source": [
        "## Problem 4: Camels and Snakes\n",
        "\n",
        "Your coworker gives you some Python code but used camelCase instead of snake_case for all of their variable names! Write a function called `camel_to_snake` that takes in a variable name in camelCase and returns that variable name in snake_case. \n",
        "\n",
        "You can assume that there will only be one or two words in each variable (i.e. `variable` or `myVariable`), but you can get 1 bonus point if you extend this to work with any number of words in the variable name (i.e. `myFirstVariable` would become `my_first_variable`).\n",
        "\n",
        "> For example:\n",
        "```python\n",
        "camel_to_snake('myVariable')\n",
        "```\n",
        "> should return:\n",
        "```python\n",
        "'my_variable'\n",
        "```"
      ]
    },
    {
      "cell_type": "markdown",
      "metadata": {
        "id": "R_MaoStQD_g3"
      },
      "source": [
        "**4pts total, with an opportunity for 1 bonus point**  \n",
        "*Partial credit will be given if substantial progress to the right answer is made.*"
      ]
    },
    {
      "cell_type": "code",
      "execution_count": null,
      "metadata": {
        "id": "7vMuuqXPD_g3"
      },
      "outputs": [],
      "source": [
        "# your answer here:\n",
        "\n"
      ]
    },
    {
      "cell_type": "code",
      "execution_count": null,
      "metadata": {
        "id": "FHnFSC6cD_g3"
      },
      "outputs": [],
      "source": [
        "camel_to_snake('myVariable')"
      ]
    },
    {
      "cell_type": "code",
      "execution_count": null,
      "metadata": {
        "id": "8RK_pJGsD_g3"
      },
      "outputs": [],
      "source": [
        "# for bonus:\n",
        "camel_to_snake('myFirstVariable')"
      ]
    },
    {
      "cell_type": "markdown",
      "metadata": {
        "id": "nFS8ueefD_g3"
      },
      "source": [
        "## Problem 5: Pythagorean Theorem\n",
        "\n",
        "The [Pythagorean theorem](https://en.wikipedia.org/wiki/Pythagorean_theorem) describes the relationship between side lengths of right triangles, where the square of the hypotenuse is equal to the sum of the squared lengths of the other two sides. More commonly, this formula is written as $a^2 + b^2 = c^2$, for triangle side lengths $a$, $b$, and hypotenuse $c$. Any three positive integers that satisfy this property is known as a [Pythagorean triple](https://en.wikipedia.org/wiki/Pythagorean_triple).\n",
        "\n",
        "Write a function called `right_triangle` that takes in a list of positive integers and returns a list of Pythagorean triples that exist within the given list of integers.\n",
        "\n",
        "Some examples of Pythagorean triples:\n",
        "- [3, 4, 5], since $3^2 + 4^2 = 5^2$\n",
        "- [5, 12, 13], since $5^2 + 12^2 = 13^2$\n",
        "- [6, 8, 10], since $6^2 + 8^2 = 10^2$\n",
        "\n",
        "> For example:\n",
        "```python\n",
        "right_triangle([1, 2, 3, 4, 5, 6, 7, 8, 9, 10, 11, 12, 13, 14])\n",
        "```\n",
        "> should return:\n",
        "```python\n",
        "[[3, 4, 5], [5, 12, 13], [6, 8, 10]]\n",
        "```"
      ]
    },
    {
      "cell_type": "markdown",
      "metadata": {
        "id": "JLhtXC2RD_g4"
      },
      "source": [
        "**4pts total**  \n",
        "*Partial credit will be given if substantial progress to the right answer is made.*"
      ]
    },
    {
      "cell_type": "code",
      "execution_count": null,
      "metadata": {
        "id": "g1Elje-KD_g4"
      },
      "outputs": [],
      "source": [
        "# your answer here:\n",
        "\n"
      ]
    },
    {
      "cell_type": "code",
      "execution_count": null,
      "metadata": {
        "id": "b1wX725FD_g4"
      },
      "outputs": [],
      "source": [
        "right_triangle([1, 2, 3, 4, 5, 6, 7, 8, 9, 10, 11, 12, 13, 14])"
      ]
    },
    {
      "cell_type": "markdown",
      "metadata": {
        "id": "tnG4nV0DD_g4"
      },
      "source": [
        "## Bonus: Quotes\n",
        "\n",
        "Get up to 2 bonus points for writing a famous/movie quote in code (Python, SQL, Unix commands, etc.). Your code does not have to actually run but it should make sense.\n",
        "\n",
        "> Example 1 (credit: Riley Dallas):\n",
        "```python\n",
        "if not success:\n",
        "    for i in range(2):\n",
        "        tries += 1\n",
        "```\n",
        "> \"If at first you don't succeed, try try again.\"\n",
        "\n",
        "> Example 2 (credit: Noah Christiansen):\n",
        "```shell\n",
        "C:\\Users\\nobody> mv baby.txt corner\n",
        "```\n",
        "> \"Nobody puts Baby in a corner.\" (from the movie [*Dirty Dancing*](https://writingexplained.org/idiom-dictionary/nobody-puts-baby-in-the-corner))"
      ]
    },
    {
      "cell_type": "code",
      "execution_count": null,
      "metadata": {
        "id": "0Gii9HPmD_g4"
      },
      "outputs": [],
      "source": [
        ""
      ]
    }
  ],
  "metadata": {
    "kernelspec": {
      "display_name": "Python 3",
      "language": "python",
      "name": "python3"
    },
    "language_info": {
      "codemirror_mode": {
        "name": "ipython",
        "version": 3
      },
      "file_extension": ".py",
      "mimetype": "text/x-python",
      "name": "python",
      "nbconvert_exporter": "python",
      "pygments_lexer": "ipython3",
      "version": "3.7.6"
    },
    "colab": {
      "name": "Joe Wawrzaszek - 04_quiz.ipynb",
      "provenance": [],
      "collapsed_sections": [],
      "include_colab_link": true
    }
  },
  "nbformat": 4,
  "nbformat_minor": 0
}